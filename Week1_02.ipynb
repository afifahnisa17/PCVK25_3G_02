{
  "nbformat": 4,
  "nbformat_minor": 0,
  "metadata": {
    "colab": {
      "private_outputs": true,
      "provenance": [],
      "authorship_tag": "ABX9TyMRbWUCLBz68pqRxyQT0Ee2",
      "include_colab_link": true
    },
    "kernelspec": {
      "name": "python3",
      "display_name": "Python 3"
    },
    "language_info": {
      "name": "python"
    }
  },
  "cells": [
    {
      "cell_type": "markdown",
      "metadata": {
        "id": "view-in-github",
        "colab_type": "text"
      },
      "source": [
        "<a href=\"https://colab.research.google.com/github/afifahnisa17/PCVK25_3G_02/blob/main/Week1_02.ipynb\" target=\"_parent\"><img src=\"https://colab.research.google.com/assets/colab-badge.svg\" alt=\"Open In Colab\"/></a>"
      ]
    },
    {
      "cell_type": "code",
      "execution_count": null,
      "metadata": {
        "id": "7z_Uk8U-xt6R"
      },
      "outputs": [],
      "source": [
        "#1 Menggunakan library\n",
        "import numpy as np\n",
        "import pandas as pd\n",
        "import cv2 as cv\n",
        "from google.colab.patches import cv2_imshow #untuk menampilkan gambar\n",
        "from skimage import io\n",
        "from skimage import transform\n",
        "from PIL import Image\n",
        "import matplotlib.pylab as plt"
      ]
    },
    {
      "cell_type": "code",
      "source": [
        "#2. membuat list untuk menyimpan url dari beberapa image\n",
        "urls = [\"https://iiif.lib.ncsu.edu/iiif/0052574/full/800,/0/default.jpg\",\n",
        "        \"https://iiif.lib.ncsu.edu/iiif/0016007/full/800,/0/default.jpg\",\n",
        "        \"https://avatars.githubusercontent.com/u/143988656?s=400&u=fb3aa3fe756fb1415f94546c26d25714b59e40e8&v=4\"]\n",
        "#baca dan tampilkan image\n",
        "#loop pada tiap url image dapat disimpan pada list\n",
        "for url in urls:\n",
        "  image = io.imread(url)\n",
        "  image = cv.resize(image, (0,0), fx=0.5, fy=0.5)\n",
        "  image_2 = cv.cvtColor(image, cv.COLOR_BGR2RGB)\n",
        "  final_frame = cv.hconcat((image, image_2))\n",
        "  cv2_imshow(final_frame)\n",
        "  print('\\n')"
      ],
      "metadata": {
        "id": "6CSd5fqt6MAp"
      },
      "execution_count": null,
      "outputs": []
    },
    {
      "cell_type": "code",
      "source": [
        "#3. Melihat ukuran file image\n",
        "tinggi = image_2.shape[0]\n",
        "lebar = image_2.shape[1]\n",
        "print(\"resolusi image: tinggi x lebar = \",tinggi,\" x \",lebar)\n",
        "cv2_imshow(image_2)"
      ],
      "metadata": {
        "id": "jb2c7bTj7cZh"
      },
      "execution_count": null,
      "outputs": []
    },
    {
      "cell_type": "code",
      "source": [
        "#4. Mengakses pixel dengan memberikan garis horizontal\n",
        "image_2 = cv.cvtColor(image, cv.COLOR_BGR2RGB)\n",
        "image_3 = cv.cvtColor(image, cv.COLOR_BGR2RGB)\n",
        "\n",
        "#membuat garis horizontal ditengah image\n",
        "for y in range (lebar):\n",
        "  image_3[int((tinggi)/2),y] = [255,255,255]\n",
        "\n",
        "final_frame = cv.hconcat((image_2, image_3))\n",
        "cv2_imshow(final_frame)"
      ],
      "metadata": {
        "id": "nI3hhVrV8gjx"
      },
      "execution_count": null,
      "outputs": []
    },
    {
      "cell_type": "markdown",
      "source": [
        "\n",
        "1. Jelaskan, mengapa pada modul praktikum ini eksekusi kode Python dilakukan menggunakan Google Colab?\n",
        "    Karena Google Collab itu berbasis cloud yang sudah terpasang python sehingga tidak perlu lagi mengunduh python dan library nya.\n",
        "\n",
        "2. Jelaskan mengenai kegunaan setiap library pada praktikum langkah ke\n",
        "delapan? Apakah semua library tersebut harus digunakan dalam praktikum\n",
        "sesi ini?\n",
        "    - NumPy → perhitungan numerik, array, dasar untuk citra digital (karena gambar = array).\n",
        "    - Pandas → analisis & manipulasi data (tidak khusus untuk citra, tapi berguna untuk data tabular terkait citra).\n",
        "    - Library pengolahan citra:\n",
        "    - cv2 (OpenCV) → computer vision, image processing (filter, deteksi objek, dsb).\n",
        "    - skimage (scikit-image) → image processing yang lebih fokus pada analisis ilmiah.\n",
        "    - PIL (Pillow) → library dasar untuk memanipulasi gambar (resize, crop, rotate, dsb).\n",
        "    Tidak selalu digunakan di praktikum. Digunakan hanya jika membutuhkan operasi dasar seperti resize.\n",
        "\n",
        "3. Pada uji coba langkah ke-9 terdapat potongan kode program sebagai berikut :\n",
        "'image = cv.resize(image, (0,0), fx=0.5, fy=0.5)'\n",
        "Apa kegunaan kode program tersebut?dan apa pengaruhnya jika tidak\n",
        "dilakukan?\n",
        "    Kegunaanya untuk mengecilkan ukuran citra menjadi setengah dari ukuran aslinya (karena fx=0.5 dan fy=0.5). Kalau tidak dilakukan, maka gambar tetap besar, bisa lebih berat untuk diproses dan memakan lebih banyak memori.\n",
        "4. Perhatikan potongan kode progam berikut :\n",
        "for y in range(lebar):\n",
        ">image_3[int((tinggi)/2), y] = [255, 255, 255]\n",
        "\n",
        "Apakah kegunaan kode [255,255,255] ? Jelaskan!\n",
        "    [255, 255, 255] adalah warna putih dalam format RGB.\n",
        "    Kegunaannya: memberi garis horizontal berwarna putih di tengah gambar.\n",
        "\n",
        "5. Jelaskan keterkaitan antara pixel dan juga resolusi gambar yang tinggi ataupun\n",
        "rendah!\n",
        "    Pixel yaitu unit terkecil dari gambar digital yang menyimpan nilai warna. Semakin tinggi resolusi gambar, maka detail gambar lebih jelas dan membutuhkan lebih banyak pixel, begitupun sebaliknya."
      ],
      "metadata": {
        "id": "83_8NS5pClED"
      }
    },
    {
      "cell_type": "code",
      "source": [],
      "metadata": {
        "id": "gQ5lsDI9A02T"
      },
      "execution_count": null,
      "outputs": []
    }
  ]
}