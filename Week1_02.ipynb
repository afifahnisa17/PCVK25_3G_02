{
  "nbformat": 4,
  "nbformat_minor": 0,
  "metadata": {
    "colab": {
      "private_outputs": true,
      "provenance": [],
      "authorship_tag": "ABX9TyNxRhrS19PojQtxbVRtQMFl",
      "include_colab_link": true
    },
    "kernelspec": {
      "name": "python3",
      "display_name": "Python 3"
    },
    "language_info": {
      "name": "python"
    }
  },
  "cells": [
    {
      "cell_type": "markdown",
      "metadata": {
        "id": "view-in-github",
        "colab_type": "text"
      },
      "source": [
        "<a href=\"https://colab.research.google.com/github/afifahnisa17/PCVK25_3G_02/blob/main/Week1_02.ipynb\" target=\"_parent\"><img src=\"https://colab.research.google.com/assets/colab-badge.svg\" alt=\"Open In Colab\"/></a>"
      ]
    },
    {
      "cell_type": "code",
      "execution_count": null,
      "metadata": {
        "id": "7z_Uk8U-xt6R"
      },
      "outputs": [],
      "source": [
        "#1 Menggunakan library\n",
        "import numpy as np\n",
        "import pandas as pd\n",
        "import cv2 as cv\n",
        "from google.colab.patches import cv2_imshow #untuk menampilkan gambar\n",
        "from skimage import io\n",
        "from skimage import transform\n",
        "from PIL import Image\n",
        "import matplotlib.pylab as plt"
      ]
    },
    {
      "cell_type": "code",
      "source": [
        "#2. membuat list untuk menyimpan url dari beberapa image\n",
        "urls = [\"https://iiif.lib.ncsu.edu/iiif/0052574/full/800,/0/default.jpg\",\n",
        "        \"https://iiif.lib.ncsu.edu/iiif/0016007/full/800,/0/default.jpg\",\n",
        "        \"https://avatars.githubusercontent.com/u/143988656?s=400&u=fb3aa3fe756fb1415f94546c26d25714b59e40e8&v=4\"]\n",
        "#baca dan tampilkan image\n",
        "#loop pada tiap url image dapat disimpan pada list\n",
        "for url in urls:\n",
        "  image = io.imread(url)\n",
        "  image = cv.resize(image, (0,0), fx=0.5, fy=0.5)\n",
        "  image_2 = cv.cvtColor(image, cv.COLOR_BGR2RGB)\n",
        "  final_frame = cv.hconcat((image, image_2))\n",
        "  cv2_imshow(final_frame)\n",
        "  print('\\n')"
      ],
      "metadata": {
        "id": "6CSd5fqt6MAp"
      },
      "execution_count": null,
      "outputs": []
    },
    {
      "cell_type": "code",
      "source": [
        "#3. Melihat ukuran file image\n",
        "tinggi = image_2.shape[0]\n",
        "lebar = image_2.shape[1]\n",
        "print(\"resolusi image: tinggi x lebar = \",tinggi,\" x \",lebar)\n",
        "cv2_imshow(image_2)"
      ],
      "metadata": {
        "id": "jb2c7bTj7cZh"
      },
      "execution_count": null,
      "outputs": []
    },
    {
      "cell_type": "code",
      "source": [
        "#4. Mengakses pixel dengan memberikan garis horizontal\n",
        "image_2 = cv.cvtColor(image, cv.COLOR_BGR2RGB)\n",
        "image_3 = cv.cvtColor(image, cv.COLOR_BGR2RGB)\n",
        "\n",
        "#membuat garis horizontal ditengah image\n",
        "for y in range (lebar):\n",
        "  image_3[int((tinggi)/2),y] = [255,255,255]\n",
        "\n",
        "final_frame = cv.hconcat((image_2, image_3))\n",
        "cv2_imshow(final_frame)"
      ],
      "metadata": {
        "id": "nI3hhVrV8gjx"
      },
      "execution_count": null,
      "outputs": []
    },
    {
      "cell_type": "code",
      "source": [],
      "metadata": {
        "id": "gQ5lsDI9A02T"
      },
      "execution_count": null,
      "outputs": []
    }
  ]
}